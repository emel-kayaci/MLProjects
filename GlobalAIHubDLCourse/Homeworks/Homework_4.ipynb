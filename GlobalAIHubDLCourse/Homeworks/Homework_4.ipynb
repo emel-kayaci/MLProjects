{
 "cells": [
  {
   "cell_type": "markdown",
   "metadata": {
    "id": "K64BL-JSibBT"
   },
   "source": [
    "# Design Choices in Recurrent Neural Networks"
   ]
  },
  {
   "cell_type": "markdown",
   "metadata": {
    "id": "9qizsy1_ia__"
   },
   "source": [
    "###  Importing packages"
   ]
  },
  {
   "cell_type": "code",
   "execution_count": 5,
   "metadata": {
    "id": "SQQBH6fFibAA"
   },
   "outputs": [
    {
     "name": "stderr",
     "output_type": "stream",
     "text": [
      "Using TensorFlow backend.\n"
     ]
    }
   ],
   "source": [
    "import re\n",
    "import numpy as np\n",
    "import pandas as pd\n",
    "%matplotlib inline\n",
    "import matplotlib.pyplot as plt\n",
    "\n",
    "from sklearn.feature_extraction.text import CountVectorizer\n",
    "from sklearn.model_selection import train_test_split\n",
    "\n",
    "from keras import backend as K\n",
    "from keras.preprocessing import sequence\n",
    "from keras.preprocessing.text import Tokenizer\n",
    "from keras.preprocessing.sequence import pad_sequences\n",
    "from keras.models import Sequential\n",
    "from keras.layers import Dense, Embedding, LSTM\n",
    "from keras.datasets import imdb\n",
    "import timeit\n",
    "\n",
    "from keras.utils.np_utils import to_categorical\n",
    "\n",
    "import warnings\n",
    "warnings.filterwarnings('ignore')\n",
    "import ssl\n",
    "ssl._create_default_https_context = ssl._create_unverified_context"
   ]
  },
  {
   "cell_type": "markdown",
   "metadata": {
    "id": "iq1zkjoZibAG"
   },
   "source": [
    "### Preparing Dataset"
   ]
  },
  {
   "cell_type": "code",
   "execution_count": 6,
   "metadata": {
    "colab": {
     "base_uri": "https://localhost:8080/",
     "height": 123
    },
    "id": "4HAT-LWqibAG",
    "outputId": "67094cbe-e72a-40af-fca8-44531bee1855"
   },
   "outputs": [
    {
     "name": "stdout",
     "output_type": "stream",
     "text": [
      "Loading data...\n",
      "25000 train sequences\n",
      "25000 test sequences\n",
      "Pad sequences (samples x time)\n",
      "x_train shape: (25000, 80)\n",
      "x_test shape: (25000, 80)\n"
     ]
    }
   ],
   "source": [
    "max_features = 1000\n",
    "maxlen = 80  # cut texts after this number of words (among top max_features most common words)\n",
    "batch_size = 64\n",
    "\n",
    "print('Loading data...')\n",
    "(x_train, y_train), (x_test, y_test) = imdb.load_data(num_words=max_features)\n",
    "print(len(x_train), 'train sequences')\n",
    "print(len(x_test), 'test sequences')\n",
    "\n",
    "print('Pad sequences (samples x time)')\n",
    "x_train = sequence.pad_sequences(x_train, maxlen=maxlen)\n",
    "x_test = sequence.pad_sequences(x_test, maxlen=maxlen)\n",
    "print('x_train shape:', x_train.shape)\n",
    "print('x_test shape:', x_test.shape)"
   ]
  },
  {
   "cell_type": "markdown",
   "metadata": {
    "id": "45x9V7tSibBT"
   },
   "source": [
    "## Part 1: Influence of number of nodes\n",
    "\n",
    "Try the models with different number of nodes such as 32, 64, 128 etc.\n",
    "\n",
    "Analyze the number of model parameters, accuracy and training time"
   ]
  },
  {
   "cell_type": "markdown",
   "metadata": {
    "id": "jYmu59jHibBU"
   },
   "source": [
    "### LSTM with 8 nodes"
   ]
  },
  {
   "cell_type": "code",
   "execution_count": 7,
   "metadata": {
    "id": "xBy67aRQibBY",
    "outputId": "6e54e514-df09-4a3b-9e3f-4c6dd53ec2b5"
   },
   "outputs": [
    {
     "name": "stdout",
     "output_type": "stream",
     "text": [
      "Model: \"sequential_1\"\n",
      "_________________________________________________________________\n",
      "Layer (type)                 Output Shape              Param #   \n",
      "=================================================================\n",
      "embedding_1 (Embedding)      (None, None, 8)           8000      \n",
      "_________________________________________________________________\n",
      "lstm_1 (LSTM)                (None, 8)                 544       \n",
      "_________________________________________________________________\n",
      "dense_1 (Dense)              (None, 1)                 9         \n",
      "=================================================================\n",
      "Total params: 8,553\n",
      "Trainable params: 8,553\n",
      "Non-trainable params: 0\n",
      "_________________________________________________________________\n",
      "WARNING:tensorflow:From C:\\Users\\HP\\Anaconda3\\lib\\site-packages\\tensorflow\\python\\ops\\nn_impl.py:180: add_dispatch_support.<locals>.wrapper (from tensorflow.python.ops.array_ops) is deprecated and will be removed in a future version.\n",
      "Instructions for updating:\n",
      "Use tf.where in 2.0, which has the same broadcast rule as np.where\n",
      "WARNING:tensorflow:From C:\\Users\\HP\\Anaconda3\\lib\\site-packages\\keras\\backend\\tensorflow_backend.py:422: The name tf.global_variables is deprecated. Please use tf.compat.v1.global_variables instead.\n",
      "\n",
      "Train on 25000 samples, validate on 25000 samples\n",
      "Epoch 1/3\n",
      "25000/25000 [==============================] - 9s 370us/step - loss: 0.5539 - accuracy: 0.7144 - val_loss: 0.4349 - val_accuracy: 0.8044\n",
      "Epoch 2/3\n",
      "25000/25000 [==============================] - 9s 371us/step - loss: 0.4142 - accuracy: 0.8138 - val_loss: 0.4019 - val_accuracy: 0.8149\n",
      "Epoch 3/3\n",
      "25000/25000 [==============================] - 9s 353us/step - loss: 0.3892 - accuracy: 0.8246 - val_loss: 0.3933 - val_accuracy: 0.8178\n",
      "Time Taken to run the model: 27.967993800000002 seconds\n",
      "25000/25000 [==============================] - 2s 79us/step\n",
      "Test score: 0.3933430397605896\n",
      "Test accuracy: 0.8177599906921387\n"
     ]
    }
   ],
   "source": [
    "K.clear_session()\n",
    "start = timeit.default_timer()   \n",
    "model = Sequential()\n",
    "model.add(Embedding(max_features, 8))\n",
    "model.add(LSTM(8, dropout=0.0, recurrent_dropout=0.0))\n",
    "model.add(Dense(1, activation='sigmoid'))\n",
    "model.summary()\n",
    "\n",
    "model.compile(loss='binary_crossentropy', optimizer='adam', metrics=['accuracy'])\n",
    "history = model.fit(x_train, y_train, batch_size=batch_size, epochs=3, validation_data=(x_test, y_test))\n",
    "\n",
    "end = timeit.default_timer()\n",
    "print(\"Time Taken to run the model:\",end - start, \"seconds\") \n",
    "\n",
    "score, acc = model.evaluate(x_test, y_test, batch_size=batch_size)\n",
    "print('Test score:', score)\n",
    "print('Test accuracy:', acc)"
   ]
  },
  {
   "cell_type": "code",
   "execution_count": 8,
   "metadata": {},
   "outputs": [
    {
     "data": {
      "image/png": "[encoded data removed]",
      "text/plain": [
       "<Figure size 432x288 with 1 Axes>"
      ]
     },
     "metadata": {
      "needs_background": "light"
     },
     "output_type": "display_data"
    },
    {
     "data": {
      "image/png": "[encoded data removed]",
      "text/plain": [
       "<Figure size 432x288 with 1 Axes>"
      ]
     },
     "metadata": {
      "needs_background": "light"
     },
     "output_type": "display_data"
    }
   ],
   "source": [
    "# Plotting Results\n",
    "acc = history.history['accuracy']\n",
    "val_acc = history.history['val_accuracy']\n",
    "loss = history.history['loss']\n",
    "val_loss = history.history['val_loss']\n",
    "epochs = range(1, len(acc) + 1)\n",
    "\n",
    "plt.plot(epochs, acc, 'b', label='Training acc')\n",
    "plt.plot(epochs, val_acc, 'g', label='Validation acc')\n",
    "plt.xlabel('Epochs')\n",
    "plt.ylabel('Accuracy')\n",
    "\n",
    "plt.title('Training and validation accuracy')\n",
    "plt.legend()\n",
    "fig = plt.figure()\n",
    "fig.savefig('acc.png')\n",
    "\n",
    "\n",
    "plt.plot(epochs, loss, 'b', label='Training loss')\n",
    "plt.plot(epochs, val_loss, 'g', label='Validation loss')\n",
    "plt.xlabel('Epochs')\n",
    "plt.ylabel('Loss')\n",
    "plt.title('Training and validation loss')\n",
    "\n",
    "plt.legend()\n",
    "plt.show()"
   ]
  },
  {
   "cell_type": "markdown",
   "metadata": {
    "id": "X9ZD__ogibBb"
   },
   "source": [
    "### LSTM with 16 nodes"
   ]
  },
  {
   "cell_type": "code",
   "execution_count": 9,
   "metadata": {
    "id": "C5CNadYribBb"
   },
   "outputs": [
    {
     "name": "stdout",
     "output_type": "stream",
     "text": [
      "Model: \"sequential_1\"\n",
      "_________________________________________________________________\n",
      "Layer (type)                 Output Shape              Param #   \n",
      "=================================================================\n",
      "embedding_1 (Embedding)      (None, None, 8)           8000      \n",
      "_________________________________________________________________\n",
      "lstm_1 (LSTM)                (None, 16)                1600      \n",
      "_________________________________________________________________\n",
      "dense_1 (Dense)              (None, 1)                 17        \n",
      "=================================================================\n",
      "Total params: 9,617\n",
      "Trainable params: 9,617\n",
      "Non-trainable params: 0\n",
      "_________________________________________________________________\n",
      "Train on 25000 samples, validate on 25000 samples\n",
      "Epoch 1/3\n",
      "25000/25000 [==============================] - 10s 406us/step - loss: 0.5269 - accuracy: 0.7253 - val_loss: 0.4139 - val_accuracy: 0.8114\n",
      "Epoch 2/3\n",
      "25000/25000 [==============================] - 10s 396us/step - loss: 0.4041 - accuracy: 0.8176 - val_loss: 0.3943 - val_accuracy: 0.8207\n",
      "Epoch 3/3\n",
      "25000/25000 [==============================] - 10s 404us/step - loss: 0.3881 - accuracy: 0.8271 - val_loss: 0.3932 - val_accuracy: 0.8218\n",
      "Time Taken to run the model: 30.777553299999994 seconds\n",
      "25000/25000 [==============================] - 2s 89us/step\n",
      "Test score: 0.39317450551986693\n",
      "Test accuracy: 0.8217999935150146\n"
     ]
    }
   ],
   "source": [
    "K.clear_session()\n",
    "start = timeit.default_timer()   \n",
    "model = Sequential()\n",
    "model.add(Embedding(max_features, 8))\n",
    "model.add(LSTM(16, dropout=0.0, recurrent_dropout=0.0))\n",
    "model.add(Dense(1, activation='sigmoid'))\n",
    "model.summary()\n",
    "\n",
    "model.compile(loss='binary_crossentropy', optimizer='adam', metrics=['accuracy'])\n",
    "history = model.fit(x_train, y_train, batch_size=batch_size, epochs=3, validation_data=(x_test, y_test))\n",
    "\n",
    "end = timeit.default_timer()\n",
    "print(\"Time Taken to run the model:\",end - start, \"seconds\") \n",
    "\n",
    "score, acc = model.evaluate(x_test, y_test, batch_size=batch_size)\n",
    "print('Test score:', score)\n",
    "print('Test accuracy:', acc)"
   ]
  },
  {
   "cell_type": "code",
   "execution_count": 10,
   "metadata": {},
   "outputs": [
    {
     "data": {
      "image/png": "[encoded data removed]",
      "text/plain": [
       "<Figure size 432x288 with 1 Axes>"
      ]
     },
     "metadata": {
      "needs_background": "light"
     },
     "output_type": "display_data"
    },
    {
     "data": {
      "image/png": "[encoded data removed]",
      "text/plain": [
       "<Figure size 432x288 with 1 Axes>"
      ]
     },
     "metadata": {
      "needs_background": "light"
     },
     "output_type": "display_data"
    }
   ],
   "source": [
    "# Plotting Results\n",
    "acc = history.history['accuracy']\n",
    "val_acc = history.history['val_accuracy']\n",
    "loss = history.history['loss']\n",
    "val_loss = history.history['val_loss']\n",
    "epochs = range(1, len(acc) + 1)\n",
    "\n",
    "plt.plot(epochs, acc, 'b', label='Training acc')\n",
    "plt.plot(epochs, val_acc, 'g', label='Validation acc')\n",
    "plt.xlabel('Epochs')\n",
    "plt.ylabel('Accuracy')\n",
    "\n",
    "plt.title('Training and validation accuracy')\n",
    "plt.legend()\n",
    "fig = plt.figure()\n",
    "fig.savefig('acc.png')\n",
    "\n",
    "\n",
    "plt.plot(epochs, loss, 'b', label='Training loss')\n",
    "plt.plot(epochs, val_loss, 'g', label='Validation loss')\n",
    "plt.xlabel('Epochs')\n",
    "plt.ylabel('Loss')\n",
    "plt.title('Training and validation loss')\n",
    "\n",
    "plt.legend()\n",
    "plt.show()"
   ]
  },
  {
   "cell_type": "markdown",
   "metadata": {
    "id": "kFur07amrA4Z"
   },
   "source": [
    "### Write your findings about number of nodes here?\n",
    "\n",
    "1. As can be seen from the graphs, increasing the number of nodes is not a solution to increase accuracy. Of course this finding like other findings only applies to this model. From here we can conclude that we need to change other hyperparameters to increase accuracy.\n",
    "\n",
    "\n",
    "2. As the number of nodes increases, the number of parameters increases. This causes an increase in processing time."
   ]
  },
  {
   "cell_type": "markdown",
   "metadata": {
    "id": "CB8nJBhFibBd"
   },
   "source": [
    "## Part 2: Influence of Embedding\n",
    "\n"
   ]
  },
  {
   "cell_type": "code",
   "execution_count": 33,
   "metadata": {
    "id": "rRHQ89RiibBf",
    "outputId": "a96ce9b3-df80-494e-d3e2-19b951b0792c"
   },
   "outputs": [
    {
     "name": "stdout",
     "output_type": "stream",
     "text": [
      "Model: \"sequential_1\"\n",
      "_________________________________________________________________\n",
      "Layer (type)                 Output Shape              Param #   \n",
      "=================================================================\n",
      "embedding_1 (Embedding)      (None, None, 8)           8000      \n",
      "_________________________________________________________________\n",
      "lstm_1 (LSTM)                (None, 16)                1600      \n",
      "_________________________________________________________________\n",
      "dense_1 (Dense)              (None, 1)                 17        \n",
      "=================================================================\n",
      "Total params: 9,617\n",
      "Trainable params: 9,617\n",
      "Non-trainable params: 0\n",
      "_________________________________________________________________\n",
      "Train on 25000 samples, validate on 25000 samples\n",
      "Epoch 1/2\n",
      "25000/25000 [==============================] - 10s 397us/step - loss: 0.5382 - accuracy: 0.7168 - val_loss: 0.4158 - val_accuracy: 0.8130\n",
      "Epoch 2/2\n",
      "25000/25000 [==============================] - 10s 387us/step - loss: 0.4009 - accuracy: 0.8188 - val_loss: 0.3986 - val_accuracy: 0.8144\n",
      "Time Taken to run the model: 20.24202390000005 seconds\n",
      "25000/25000 [==============================] - 2s 94us/step\n",
      "Test score: 0.3985502539253235\n",
      "Test accuracy: 0.8143600225448608\n"
     ]
    }
   ],
   "source": [
    "K.clear_session()\n",
    "start = timeit.default_timer()   \n",
    "model = Sequential()\n",
    "model.add(Embedding(max_features, 8))\n",
    "model.add(LSTM(16, dropout=0.0, recurrent_dropout=0.0))\n",
    "model.add(Dense(1, activation='sigmoid'))\n",
    "model.summary()\n",
    "\n",
    "model.compile(loss='binary_crossentropy', optimizer='adam', metrics=['accuracy'])\n",
    "model.fit(x_train, y_train, batch_size=batch_size, epochs=2, validation_data=(x_test, y_test))\n",
    "\n",
    "end = timeit.default_timer()\n",
    "print(\"Time Taken to run the model:\",end - start, \"seconds\") \n",
    "\n",
    "score, acc = model.evaluate(x_test, y_test, batch_size=batch_size)\n",
    "print('Test score:', score)\n",
    "print('Test accuracy:', acc)"
   ]
  },
  {
   "cell_type": "code",
   "execution_count": 32,
   "metadata": {
    "id": "UVnNJ6Q7r8OD"
   },
   "outputs": [
    {
     "name": "stdout",
     "output_type": "stream",
     "text": [
      "Model: \"sequential_1\"\n",
      "_________________________________________________________________\n",
      "Layer (type)                 Output Shape              Param #   \n",
      "=================================================================\n",
      "embedding_1 (Embedding)      (None, None, 32)          32000     \n",
      "_________________________________________________________________\n",
      "lstm_1 (LSTM)                (None, 16)                3136      \n",
      "_________________________________________________________________\n",
      "dense_1 (Dense)              (None, 1)                 17        \n",
      "=================================================================\n",
      "Total params: 35,153\n",
      "Trainable params: 35,153\n",
      "Non-trainable params: 0\n",
      "_________________________________________________________________\n",
      "Train on 25000 samples, validate on 25000 samples\n",
      "Epoch 1/2\n",
      "25000/25000 [==============================] - 12s 464us/step - loss: 0.4954 - accuracy: 0.7488 - val_loss: 0.4013 - val_accuracy: 0.8143\n",
      "Epoch 2/2\n",
      "25000/25000 [==============================] - 11s 456us/step - loss: 0.3954 - accuracy: 0.8220 - val_loss: 0.3881 - val_accuracy: 0.8220\n",
      "Time Taken to run the model: 23.549651400000016 seconds\n",
      "25000/25000 [==============================] - 2s 90us/step\n",
      "Test score: 0.388058245010376\n",
      "Test accuracy: 0.8220400214195251\n"
     ]
    }
   ],
   "source": [
    "K.clear_session()\n",
    "start = timeit.default_timer()   \n",
    "model = Sequential()\n",
    "model.add(Embedding(max_features, 32))\n",
    "model.add(LSTM(16, dropout=0.0, recurrent_dropout=0.0))\n",
    "model.add(Dense(1, activation='sigmoid'))\n",
    "model.summary()\n",
    "\n",
    "model.compile(loss='binary_crossentropy', optimizer='adam', metrics=['accuracy'])\n",
    "model.fit(x_train, y_train, batch_size=batch_size, epochs=2, validation_data=(x_test, y_test))\n",
    "\n",
    "end = timeit.default_timer()\n",
    "print(\"Time Taken to run the model:\",end - start, \"seconds\") \n",
    "\n",
    "score, acc = model.evaluate(x_test, y_test, batch_size=batch_size)\n",
    "print('Test score:', score)\n",
    "print('Test accuracy:', acc)"
   ]
  },
  {
   "cell_type": "markdown",
   "metadata": {
    "id": "bMqv2Kf1r3VP"
   },
   "source": [
    "### Write your findings about number of embedding features here?\n",
    "\n",
    "1.   As the number of embedding features increases, the accuracy of the model also increases. Perhaps an added feature determines that the sample that was previously considered negative is actually positive.\n",
    "\n",
    "\n",
    "2.   As the number of embedding features increases, the number of parameters of the model also increases. This causes an increase in running time.\n"
   ]
  },
  {
   "cell_type": "markdown",
   "metadata": {
    "id": "5ENmvb0BibBi"
   },
   "source": [
    "## Part 3: Influence of Dropout\n",
    "\n",
    "Try the models with different rates of dropout from 0 to 1\n",
    "\n",
    "Analyze the number of model parameters, accuracy and training time"
   ]
  },
  {
   "cell_type": "markdown",
   "metadata": {
    "id": "HXpsYJzNibBj"
   },
   "source": [
    "### Dropout with rate 0.5"
   ]
  },
  {
   "cell_type": "code",
   "execution_count": 34,
   "metadata": {
    "id": "pBQ4317BibBk",
    "outputId": "6a1f18e9-2c70-4877-9e5a-2cbe4afe9a36"
   },
   "outputs": [
    {
     "name": "stdout",
     "output_type": "stream",
     "text": [
      "Model: \"sequential_1\"\n",
      "_________________________________________________________________\n",
      "Layer (type)                 Output Shape              Param #   \n",
      "=================================================================\n",
      "embedding_1 (Embedding)      (None, None, 32)          32000     \n",
      "_________________________________________________________________\n",
      "lstm_1 (LSTM)                (None, 8)                 1312      \n",
      "_________________________________________________________________\n",
      "dense_1 (Dense)              (None, 1)                 9         \n",
      "=================================================================\n",
      "Total params: 33,321\n",
      "Trainable params: 33,321\n",
      "Non-trainable params: 0\n",
      "_________________________________________________________________\n",
      "Train on 25000 samples, validate on 25000 samples\n",
      "Epoch 1/3\n",
      "25000/25000 [==============================] - 10s 408us/step - loss: 0.6145 - accuracy: 0.6670 - val_loss: 0.5263 - val_accuracy: 0.7408\n",
      "Epoch 2/3\n",
      "25000/25000 [==============================] - 11s 421us/step - loss: 0.5137 - accuracy: 0.7532 - val_loss: 0.4874 - val_accuracy: 0.7667\n",
      "Epoch 3/3\n",
      "25000/25000 [==============================] - 11s 431us/step - loss: 0.4914 - accuracy: 0.7683 - val_loss: 0.4969 - val_accuracy: 0.7588\n",
      "Time Taken to run the model: 32.23613850000015 seconds\n",
      "25000/25000 [==============================] - 2s 76us/step\n",
      "Test score: 0.49694009355545044\n",
      "Test accuracy: 0.7587599754333496\n"
     ]
    }
   ],
   "source": [
    "K.clear_session()\n",
    "start = timeit.default_timer()   \n",
    "model = Sequential()\n",
    "model.add(Embedding(max_features, 32))\n",
    "model.add(LSTM(8, dropout=0.5, recurrent_dropout=0.5))\n",
    "model.add(Dense(1, activation='sigmoid'))\n",
    "model.summary()\n",
    "\n",
    "model.compile(loss='binary_crossentropy', optimizer='adam', metrics=['accuracy'])\n",
    "model.fit(x_train, y_train, batch_size=batch_size, epochs=3, validation_data=(x_test, y_test))\n",
    "\n",
    "end = timeit.default_timer()\n",
    "print(\"Time Taken to run the model:\",end - start, \"seconds\") \n",
    "\n",
    "score, acc = model.evaluate(x_test, y_test, batch_size=batch_size)\n",
    "print('Test score:', score)\n",
    "print('Test accuracy:', acc)"
   ]
  },
  {
   "cell_type": "code",
   "execution_count": 35,
   "metadata": {
    "id": "rEHxPCN7ibBo"
   },
   "outputs": [
    {
     "name": "stdout",
     "output_type": "stream",
     "text": [
      "Model: \"sequential_1\"\n",
      "_________________________________________________________________\n",
      "Layer (type)                 Output Shape              Param #   \n",
      "=================================================================\n",
      "embedding_1 (Embedding)      (None, None, 32)          32000     \n",
      "_________________________________________________________________\n",
      "lstm_1 (LSTM)                (None, 8)                 1312      \n",
      "_________________________________________________________________\n",
      "dense_1 (Dense)              (None, 1)                 9         \n",
      "=================================================================\n",
      "Total params: 33,321\n",
      "Trainable params: 33,321\n",
      "Non-trainable params: 0\n",
      "_________________________________________________________________\n",
      "Train on 25000 samples, validate on 25000 samples\n",
      "Epoch 1/3\n",
      "25000/25000 [==============================] - 10s 396us/step - loss: 0.5800 - accuracy: 0.7014 - val_loss: 0.4804 - val_accuracy: 0.7721\n",
      "Epoch 2/3\n",
      "25000/25000 [==============================] - 10s 396us/step - loss: 0.4848 - accuracy: 0.7730 - val_loss: 0.4567 - val_accuracy: 0.7884\n",
      "Epoch 3/3\n",
      "25000/25000 [==============================] - 10s 413us/step - loss: 0.4570 - accuracy: 0.7907 - val_loss: 0.4586 - val_accuracy: 0.7849\n",
      "Time Taken to run the model: 30.891170000000102 seconds\n",
      "25000/25000 [==============================] - 2s 84us/step\n",
      "Test score: 0.45861144289016725\n",
      "Test accuracy: 0.7848799824714661\n"
     ]
    }
   ],
   "source": [
    "K.clear_session()\n",
    "start = timeit.default_timer()   \n",
    "model = Sequential()\n",
    "model.add(Embedding(max_features, 32))\n",
    "model.add(LSTM(8, dropout=0.3, recurrent_dropout=0.3))\n",
    "model.add(Dense(1, activation='sigmoid'))\n",
    "model.summary()\n",
    "\n",
    "model.compile(loss='binary_crossentropy', optimizer='adam', metrics=['accuracy'])\n",
    "model.fit(x_train, y_train, batch_size=batch_size, epochs=3, validation_data=(x_test, y_test))\n",
    "\n",
    "end = timeit.default_timer()\n",
    "print(\"Time Taken to run the model:\",end - start, \"seconds\") \n",
    "\n",
    "score, acc = model.evaluate(x_test, y_test, batch_size=batch_size)\n",
    "print('Test score:', score)\n",
    "print('Test accuracy:', acc)"
   ]
  },
  {
   "cell_type": "code",
   "execution_count": 36,
   "metadata": {
    "id": "--A0IdGbsAa-"
   },
   "outputs": [
    {
     "name": "stdout",
     "output_type": "stream",
     "text": [
      "Model: \"sequential_1\"\n",
      "_________________________________________________________________\n",
      "Layer (type)                 Output Shape              Param #   \n",
      "=================================================================\n",
      "embedding_1 (Embedding)      (None, None, 32)          32000     \n",
      "_________________________________________________________________\n",
      "lstm_1 (LSTM)                (None, 8)                 1312      \n",
      "_________________________________________________________________\n",
      "dense_1 (Dense)              (None, 1)                 9         \n",
      "=================================================================\n",
      "Total params: 33,321\n",
      "Trainable params: 33,321\n",
      "Non-trainable params: 0\n",
      "_________________________________________________________________\n",
      "Train on 25000 samples, validate on 25000 samples\n",
      "Epoch 1/3\n",
      "25000/25000 [==============================] - 11s 440us/step - loss: 0.5745 - accuracy: 0.7088 - val_loss: 0.4614 - val_accuracy: 0.7928\n",
      "Epoch 2/3\n",
      "25000/25000 [==============================] - 10s 399us/step - loss: 0.4531 - accuracy: 0.7938 - val_loss: 0.4208 - val_accuracy: 0.8111\n",
      "Epoch 3/3\n",
      "25000/25000 [==============================] - 10s 396us/step - loss: 0.4213 - accuracy: 0.8128 - val_loss: 0.4302 - val_accuracy: 0.8024\n",
      "Time Taken to run the model: 31.691653100000167 seconds\n",
      "25000/25000 [==============================] - 2s 85us/step\n",
      "Test score: 0.4302176866722107\n",
      "Test accuracy: 0.8023999929428101\n"
     ]
    }
   ],
   "source": [
    "K.clear_session()\n",
    "start = timeit.default_timer()   \n",
    "model = Sequential()\n",
    "model.add(Embedding(max_features, 32))\n",
    "model.add(LSTM(8, dropout=0.1, recurrent_dropout=0.1))\n",
    "model.add(Dense(1, activation='sigmoid'))\n",
    "model.summary()\n",
    "\n",
    "model.compile(loss='binary_crossentropy', optimizer='adam', metrics=['accuracy'])\n",
    "model.fit(x_train, y_train, batch_size=batch_size, epochs=3, validation_data=(x_test, y_test))\n",
    "\n",
    "end = timeit.default_timer()\n",
    "print(\"Time Taken to run the model:\",end - start, \"seconds\") \n",
    "\n",
    "score, acc = model.evaluate(x_test, y_test, batch_size=batch_size)\n",
    "print('Test score:', score)\n",
    "print('Test accuracy:', acc)"
   ]
  },
  {
   "cell_type": "markdown",
   "metadata": {
    "id": "bK0QJhngsH_t"
   },
   "source": [
    "### Write your findings about influence of dropout rate here?\n",
    "\n",
    "1.   Droupout is used when the model is overfitting. In the samples, it was observed that as the dropout decreased, accuracy increased. In other words, there is no situation where certain nodes in the model learn more than others.\n",
    "\n",
    "\n",
    "2.   Since the number of parameters does not change, there is no change in the processing time either.\n"
   ]
  },
  {
   "cell_type": "markdown",
   "metadata": {
    "id": "VZu33HjEibBq"
   },
   "source": [
    "## Part 4: Multilayered RNNs\n",
    "\n",
    "Try the models with different number of layers from smaller to larger.\n",
    "\n",
    "Analyze the number of model parameters, accuracy and training time"
   ]
  },
  {
   "cell_type": "markdown",
   "metadata": {
    "id": "T26reJlTibBq"
   },
   "source": [
    "### RNN with 2 layer LSTM"
   ]
  },
  {
   "cell_type": "code",
   "execution_count": 42,
   "metadata": {
    "id": "LScH30z1ibBr",
    "outputId": "8206aa60-e29c-4be5-ca09-6f61f48dd3eb"
   },
   "outputs": [
    {
     "name": "stdout",
     "output_type": "stream",
     "text": [
      "Model: \"sequential_1\"\n",
      "_________________________________________________________________\n",
      "Layer (type)                 Output Shape              Param #   \n",
      "=================================================================\n",
      "embedding_1 (Embedding)      (None, None, 16)          16000     \n",
      "_________________________________________________________________\n",
      "lstm_1 (LSTM)                (None, None, 16)          2112      \n",
      "_________________________________________________________________\n",
      "lstm_2 (LSTM)                (None, None, 8)           800       \n",
      "_________________________________________________________________\n",
      "lstm_3 (LSTM)                (None, 8)                 544       \n",
      "_________________________________________________________________\n",
      "dense_1 (Dense)              (None, 1)                 9         \n",
      "=================================================================\n",
      "Total params: 19,465\n",
      "Trainable params: 19,465\n",
      "Non-trainable params: 0\n",
      "_________________________________________________________________\n",
      "Train on 25000 samples, validate on 25000 samples\n",
      "Epoch 1/5\n",
      "25000/25000 [==============================] - 27s 1ms/step - loss: 0.5149 - accuracy: 0.7357 - val_loss: 0.4224 - val_accuracy: 0.8063\n",
      "Epoch 2/5\n",
      "25000/25000 [==============================] - 27s 1ms/step - loss: 0.4111 - accuracy: 0.8146 - val_loss: 0.4204 - val_accuracy: 0.8062\n",
      "Epoch 3/5\n",
      "25000/25000 [==============================] - 28s 1ms/step - loss: 0.3907 - accuracy: 0.8256 - val_loss: 0.3939 - val_accuracy: 0.8191\n",
      "Epoch 4/5\n",
      "25000/25000 [==============================] - 27s 1ms/step - loss: 0.3743 - accuracy: 0.8325 - val_loss: 0.3892 - val_accuracy: 0.8188\n",
      "Epoch 5/5\n",
      "25000/25000 [==============================] - 27s 1ms/step - loss: 0.3653 - accuracy: 0.8378 - val_loss: 0.3949 - val_accuracy: 0.8187\n",
      "Time Taken to run the model: 137.49564039999996 seconds\n",
      "25000/25000 [==============================] - 6s 239us/step\n",
      "Test score: 0.3949035850906372\n",
      "Test accuracy: 0.8187199831008911\n"
     ]
    }
   ],
   "source": [
    "K.clear_session()\n",
    "start = timeit.default_timer()   \n",
    "model = Sequential()\n",
    "model.add(Embedding(max_features, 16))\n",
    "model.add(LSTM(16, dropout=0.0, recurrent_dropout=0.0, return_sequences=True))\n",
    "model.add(LSTM(8, dropout=0.0, recurrent_dropout=0.0, return_sequences=True))\n",
    "model.add(LSTM(8, dropout=0.0, recurrent_dropout=0.0))\n",
    "model.add(Dense(1, activation='sigmoid'))\n",
    "model.summary()\n",
    "\n",
    "model.compile(loss='binary_crossentropy', optimizer='adam', metrics=['accuracy'])\n",
    "history1 = model.fit(x_train, y_train, batch_size=batch_size, epochs=5, validation_data=(x_test, y_test))\n",
    "\n",
    "end = timeit.default_timer()\n",
    "print(\"Time Taken to run the model:\",end - start, \"seconds\") \n",
    "\n",
    "score, acc = model.evaluate(x_test, y_test, batch_size=batch_size)\n",
    "print('Test score:', score)\n",
    "print('Test accuracy:', acc)"
   ]
  },
  {
   "cell_type": "markdown",
   "metadata": {
    "id": "9dcVD_Q-ibBt"
   },
   "source": [
    "### RNN with 3 layer LSTM"
   ]
  },
  {
   "cell_type": "code",
   "execution_count": 43,
   "metadata": {
    "id": "27GyLcMTibBv"
   },
   "outputs": [
    {
     "name": "stdout",
     "output_type": "stream",
     "text": [
      "Model: \"sequential_1\"\n",
      "_________________________________________________________________\n",
      "Layer (type)                 Output Shape              Param #   \n",
      "=================================================================\n",
      "embedding_1 (Embedding)      (None, None, 16)          16000     \n",
      "_________________________________________________________________\n",
      "lstm_1 (LSTM)                (None, None, 16)          2112      \n",
      "_________________________________________________________________\n",
      "lstm_2 (LSTM)                (None, None, 8)           800       \n",
      "_________________________________________________________________\n",
      "lstm_3 (LSTM)                (None, None, 8)           544       \n",
      "_________________________________________________________________\n",
      "lstm_4 (LSTM)                (None, 8)                 544       \n",
      "_________________________________________________________________\n",
      "dense_1 (Dense)              (None, 1)                 9         \n",
      "=================================================================\n",
      "Total params: 20,009\n",
      "Trainable params: 20,009\n",
      "Non-trainable params: 0\n",
      "_________________________________________________________________\n",
      "Train on 25000 samples, validate on 25000 samples\n",
      "Epoch 1/5\n",
      "25000/25000 [==============================] - 34s 1ms/step - loss: 0.5400 - accuracy: 0.7164 - val_loss: 0.4401 - val_accuracy: 0.7946\n",
      "Epoch 2/5\n",
      "25000/25000 [==============================] - 34s 1ms/step - loss: 0.4223 - accuracy: 0.8086 - val_loss: 0.4108 - val_accuracy: 0.8116\n",
      "Epoch 3/5\n",
      "25000/25000 [==============================] - 34s 1ms/step - loss: 0.3914 - accuracy: 0.8255 - val_loss: 0.3997 - val_accuracy: 0.8162\n",
      "Epoch 4/5\n",
      "25000/25000 [==============================] - 34s 1ms/step - loss: 0.3803 - accuracy: 0.8304 - val_loss: 0.3953 - val_accuracy: 0.8185\n",
      "Epoch 5/5\n",
      "25000/25000 [==============================] - 34s 1ms/step - loss: 0.3700 - accuracy: 0.8350 - val_loss: 0.3999 - val_accuracy: 0.8161\n",
      "Time Taken to run the model: 172.88104520000024 seconds\n",
      "25000/25000 [==============================] - 7s 284us/step\n",
      "Test score: 0.3999185537815094\n",
      "Test accuracy: 0.8160799741744995\n"
     ]
    }
   ],
   "source": [
    "K.clear_session()\n",
    "start = timeit.default_timer()   \n",
    "model = Sequential()\n",
    "model.add(Embedding(max_features, 16))\n",
    "model.add(LSTM(16, dropout=0.0, recurrent_dropout=0.0, return_sequences=True))\n",
    "model.add(LSTM(8, dropout=0.0, recurrent_dropout=0.0, return_sequences=True))\n",
    "model.add(LSTM(8, dropout=0.0, recurrent_dropout=0.0, return_sequences=True))\n",
    "model.add(LSTM(8, dropout=0.0, recurrent_dropout=0.0))\n",
    "model.add(Dense(1, activation='sigmoid'))\n",
    "model.summary()\n",
    "\n",
    "model.compile(loss='binary_crossentropy', optimizer='adam', metrics=['accuracy'])\n",
    "history = model.fit(x_train, y_train, batch_size=batch_size, epochs=5, validation_data=(x_test, y_test))\n",
    "\n",
    "end = timeit.default_timer()\n",
    "print(\"Time Taken to run the model:\",end - start, \"seconds\") \n",
    "\n",
    "score, acc = model.evaluate(x_test, y_test, batch_size=batch_size)\n",
    "print('Test score:', score)\n",
    "print('Test accuracy:', acc)"
   ]
  },
  {
   "cell_type": "code",
   "execution_count": 44,
   "metadata": {},
   "outputs": [
    {
     "data": {
      "image/png": "[encoded data removed]",
      "text/plain": [
       "<Figure size 432x288 with 1 Axes>"
      ]
     },
     "metadata": {
      "needs_background": "light"
     },
     "output_type": "display_data"
    },
    {
     "data": {
      "image/png": "[encoded data removed]",
      "text/plain": [
       "<Figure size 432x288 with 1 Axes>"
      ]
     },
     "metadata": {
      "needs_background": "light"
     },
     "output_type": "display_data"
    }
   ],
   "source": [
    "# Plotting Results\n",
    "acc = history.history['accuracy']\n",
    "val_acc = history.history['val_accuracy']\n",
    "loss = history.history['loss']\n",
    "val_loss = history.history['val_loss']\n",
    "epochs = range(1, len(acc) + 1)\n",
    "\n",
    "acc1 = history1.history['accuracy']\n",
    "val_acc1 = history1.history['val_accuracy']\n",
    "loss1 = history1.history['loss']\n",
    "val_loss1 = history1.history['val_loss']\n",
    "epochs1 = range(1, len(acc1) + 1)\n",
    "\n",
    "plt.plot(epochs, acc, 'b', label='Training acc')\n",
    "plt.plot(epochs, val_acc, 'g', label='Validation acc')\n",
    "plt.xlabel('Epochs')\n",
    "plt.ylabel('Accuracy')\n",
    "\n",
    "plt.plot(epochs1, acc1, 'r', label='Training acc')\n",
    "plt.plot(epochs1, val_acc1, 'c', label='Validation acc')\n",
    "plt.xlabel('Epochs')\n",
    "plt.ylabel('Accuracy')\n",
    "\n",
    "\n",
    "plt.title('Training and validation accuracy')\n",
    "plt.legend()\n",
    "fig = plt.figure()\n",
    "\n",
    "plt.plot(epochs, loss, 'b', label='Training loss')\n",
    "plt.plot(epochs, val_loss, 'g', label='Validation loss')\n",
    "plt.xlabel('Epochs')\n",
    "plt.ylabel('Loss')\n",
    "plt.title('Training and validation loss')\n",
    "\n",
    "plt.plot(epochs1, loss1, 'r', label='Training loss')\n",
    "plt.plot(epochs1, val_loss1, 'c', label='Validation loss')\n",
    "plt.xlabel('Epochs')\n",
    "plt.ylabel('Loss')\n",
    "plt.title('Training and validation loss')\n",
    "\n",
    "plt.legend()\n",
    "plt.show()"
   ]
  },
  {
   "cell_type": "markdown",
   "metadata": {
    "id": "gjD_fTTCibBx"
   },
   "source": [
    "### Write your findings about number of layers here?\n",
    "\n",
    "1. Although the model with more layers with little difference is successful, it would be better to change other hyperparameters to increase success because this difference is very small.\n",
    "\n",
    "\n",
    "2. The number of parameters increases as the new layer is added thus the processing time is also increasing. "
   ]
  }
 ],
 "metadata": {
  "colab": {
   "collapsed_sections": [],
   "name": "Homework 4.ipynb",
   "provenance": []
  },
  "kernelspec": {
   "display_name": "Python 3",
   "language": "python",
   "name": "python3"
  },
  "language_info": {
   "codemirror_mode": {
    "name": "ipython",
    "version": 3
   },
   "file_extension": ".py",
   "mimetype": "text/x-python",
   "name": "python",
   "nbconvert_exporter": "python",
   "pygments_lexer": "ipython3",
   "version": "3.7.4"
  }
 },
 "nbformat": 4,
 "nbformat_minor": 1
}

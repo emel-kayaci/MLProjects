{
  "nbformat": 4,
  "nbformat_minor": 0,
  "metadata": {
    "colab": {
      "name": "Homework_2.ipynb",
      "provenance": [],
      "collapsed_sections": [
        "kAFwGJ6qmSNI"
      ]
    },
    "kernelspec": {
      "name": "python3",
      "display_name": "Python 3"
    },
    "accelerator": "GPU"
  },
  "cells": [
    {
      "cell_type": "markdown",
      "metadata": {
        "id": "b_DqblN4mSJl"
      },
      "source": [
        "### Importing libraries"
      ]
    },
    {
      "cell_type": "code",
      "metadata": {
        "trusted": true,
        "id": "6c4cAGtKmSJq"
      },
      "source": [
        "import warnings\n",
        "warnings.filterwarnings('ignore')\n",
        "\n",
        "import numpy as np\n",
        "import matplotlib.pyplot as plt\n",
        "import keras\n",
        "from keras.datasets import mnist\n",
        "from keras.models import Sequential,model_from_json\n",
        "from keras.layers import Dense\n",
        "from keras.optimizers import RMSprop\n",
        "import pylab as plt"
      ],
      "execution_count": 73,
      "outputs": []
    },
    {
      "cell_type": "markdown",
      "metadata": {
        "id": "etMXuztNmSJ7"
      },
      "source": [
        "#### Keras is the deep learning library that helps you to code Deep Neural Networks with fewer lines of code "
      ]
    },
    {
      "cell_type": "markdown",
      "metadata": {
        "id": "Lh3WaWY3mSJ-"
      },
      "source": [
        "### Import data"
      ]
    },
    {
      "cell_type": "code",
      "metadata": {
        "trusted": true,
        "id": "Ii7ouzosmSJ_",
        "colab": {
          "base_uri": "https://localhost:8080/"
        },
        "outputId": "6be49265-af57-440f-93da-fb8aa2d265d4"
      },
      "source": [
        "batch_size = 128\n",
        "num_classes = 10 # output classes\n",
        "epochs = 2 # going over full data 2 times\n",
        "\n",
        "# The data, split between train and test sets\n",
        "(x_train, y_train), (x_test, y_test) = mnist.load_data()\n",
        "\n",
        "# Each MNIST image is 28x28 pixels. Flattening into a 28x28 = 784 array.\n",
        "x_train = x_train.reshape(60000, 784)\n",
        "x_test = x_test.reshape(10000, 784)\n",
        "x_train = x_train.astype('float32')\n",
        "x_test = x_test.astype('float32')\n",
        "\n",
        "# Normalize to 0 to 1 range\n",
        "x_train /= 255\n",
        "x_test /= 255\n",
        "\n",
        "print(x_train.shape[0], 'train samples')\n",
        "print(x_test.shape[0], 'test samples')\n",
        "# convert class vectors to binary class matrices\n",
        "print(\"Before converting class vectors: \", y_train[0])\n",
        "y_train = keras.utils.to_categorical(y_train, num_classes)\n",
        "print(\"After converting class vectors: \", y_train[0])\n",
        "y_test = keras.utils.to_categorical(y_test, num_classes)"
      ],
      "execution_count": 74,
      "outputs": [
        {
          "output_type": "stream",
          "text": [
            "60000 train samples\n",
            "10000 test samples\n",
            "Before converting class vectors:  5\n",
            "After converting class vectors:  [0. 0. 0. 0. 0. 1. 0. 0. 0. 0.]\n"
          ],
          "name": "stdout"
        }
      ]
    },
    {
      "cell_type": "markdown",
      "metadata": {
        "id": "lDfAYp5xmSMt"
      },
      "source": [
        "# Part 1: Analysis of Activation Functions\r\n"
      ]
    },
    {
      "cell_type": "markdown",
      "metadata": {
        "id": "uuTttTdrmSNK"
      },
      "source": [
        "### Try other Activation Functions\n",
        "Analyze the accuracy and training time\n",
        "#### Example Syntax \n",
        "* model.add(Dense(8, activation='tanh'))\n",
        "* model.add(Dense(8, activation='linear'))\n",
        "* model.add(Dense(8, activation='relu'))\n",
        "* model.add(Dense(8, activation='hard_sigmoid'))"
      ]
    },
    {
      "cell_type": "markdown",
      "metadata": {
        "id": "Sis7i5TdmSMx"
      },
      "source": [
        "### Sigmoid Activation Function"
      ]
    },
    {
      "cell_type": "code",
      "metadata": {
        "trusted": true,
        "id": "OyZSlWeemSM0",
        "colab": {
          "base_uri": "https://localhost:8080/"
        },
        "outputId": "f2d6ebcc-f30b-468f-be95-0246b6c6b2d8"
      },
      "source": [
        "# All layers come after another\n",
        "%%time\n",
        "model = Sequential()\n",
        "# Dense: Fully connected layer, meaning all the neurons in a layer are connected to those in the next layer\n",
        "# 64: Node number \n",
        "model.add(Dense(64, activation='sigmoid', input_shape=(784,))) # Hidden layer 1\n",
        "model.add(Dense(64, activation='sigmoid')) # Hidden layer 2\n",
        "model.add(Dense(num_classes, activation='softmax')) # Output layer\n",
        "\n",
        "# Shows number of params and output shape (50240 = 784*64 (weight) + 64 (bias))\n",
        "model.summary()\n",
        "# Optimizers find where loss is minimum\n",
        "model.compile(loss='categorical_crossentropy',\n",
        "              optimizer=RMSprop(),\n",
        "              metrics=['accuracy'])\n",
        "\n",
        "history = model.fit(x_train, y_train,\n",
        "                    batch_size=batch_size,\n",
        "                    epochs=10,\n",
        "                    verbose=1, # Loading bar of epoch visible\n",
        "                    validation_data=(x_test, y_test))\n",
        "score = model.evaluate(x_test, y_test, verbose=0)\n",
        "print('Test loss:', score[0])\n",
        "print('Test accuracy:', score[1])"
      ],
      "execution_count": 75,
      "outputs": [
        {
          "output_type": "stream",
          "text": [
            "Model: \"sequential_48\"\n",
            "_________________________________________________________________\n",
            "Layer (type)                 Output Shape              Param #   \n",
            "=================================================================\n",
            "dense_144 (Dense)            (None, 64)                50240     \n",
            "_________________________________________________________________\n",
            "dense_145 (Dense)            (None, 64)                4160      \n",
            "_________________________________________________________________\n",
            "dense_146 (Dense)            (None, 10)                650       \n",
            "=================================================================\n",
            "Total params: 55,050\n",
            "Trainable params: 55,050\n",
            "Non-trainable params: 0\n",
            "_________________________________________________________________\n",
            "Epoch 1/10\n",
            "469/469 [==============================] - 2s 4ms/step - loss: 1.4149 - accuracy: 0.6584 - val_loss: 0.3342 - val_accuracy: 0.9104\n",
            "Epoch 2/10\n",
            "469/469 [==============================] - 2s 3ms/step - loss: 0.3061 - accuracy: 0.9137 - val_loss: 0.2338 - val_accuracy: 0.9309\n",
            "Epoch 3/10\n",
            "469/469 [==============================] - 2s 3ms/step - loss: 0.2274 - accuracy: 0.9331 - val_loss: 0.1910 - val_accuracy: 0.9422\n",
            "Epoch 4/10\n",
            "469/469 [==============================] - 2s 3ms/step - loss: 0.1838 - accuracy: 0.9461 - val_loss: 0.1650 - val_accuracy: 0.9502\n",
            "Epoch 5/10\n",
            "469/469 [==============================] - 2s 3ms/step - loss: 0.1547 - accuracy: 0.9544 - val_loss: 0.1526 - val_accuracy: 0.9526\n",
            "Epoch 6/10\n",
            "469/469 [==============================] - 2s 4ms/step - loss: 0.1328 - accuracy: 0.9608 - val_loss: 0.1296 - val_accuracy: 0.9602\n",
            "Epoch 7/10\n",
            "469/469 [==============================] - 2s 3ms/step - loss: 0.1184 - accuracy: 0.9656 - val_loss: 0.1198 - val_accuracy: 0.9633\n",
            "Epoch 8/10\n",
            "469/469 [==============================] - 2s 3ms/step - loss: 0.1051 - accuracy: 0.9688 - val_loss: 0.1127 - val_accuracy: 0.9654\n",
            "Epoch 9/10\n",
            "469/469 [==============================] - 2s 3ms/step - loss: 0.0932 - accuracy: 0.9726 - val_loss: 0.1079 - val_accuracy: 0.9672\n",
            "Epoch 10/10\n",
            "469/469 [==============================] - 2s 3ms/step - loss: 0.0847 - accuracy: 0.9752 - val_loss: 0.1026 - val_accuracy: 0.9686\n",
            "Test loss: 0.10256911814212799\n",
            "Test accuracy: 0.9685999751091003\n",
            "CPU times: user 21 s, sys: 1.38 s, total: 22.4 s\n",
            "Wall time: 16.7 s\n"
          ],
          "name": "stdout"
        }
      ]
    },
    {
      "cell_type": "markdown",
      "metadata": {
        "id": "qfTssbc6Z4ee"
      },
      "source": [
        "### Relu Activation Function"
      ]
    },
    {
      "cell_type": "code",
      "metadata": {
        "colab": {
          "base_uri": "https://localhost:8080/"
        },
        "id": "OHPbrdnuZ3Rn",
        "outputId": "88270181-8ff6-4fe9-a860-d50fbfa27dda"
      },
      "source": [
        "%%time\r\n",
        "model = Sequential()\r\n",
        "model.add(Dense(64, activation='relu', input_shape=(784,)))\r\n",
        "model.add(Dense(64, activation='relu'))\r\n",
        "model.add(Dense(num_classes, activation='softmax'))\r\n",
        "\r\n",
        "model.summary()\r\n",
        "model.compile(loss='categorical_crossentropy',\r\n",
        "              optimizer=RMSprop(),\r\n",
        "              metrics=['accuracy'])\r\n",
        "\r\n",
        "history = model.fit(x_train, y_train,\r\n",
        "                    batch_size=batch_size,\r\n",
        "                    epochs=10,\r\n",
        "                    verbose=1,\r\n",
        "                    validation_data=(x_test, y_test))\r\n",
        "score = model.evaluate(x_test, y_test, verbose=0)\r\n",
        "print('Test loss:', score[0])\r\n",
        "print('Test accuracy:', score[1])"
      ],
      "execution_count": 76,
      "outputs": [
        {
          "output_type": "stream",
          "text": [
            "Model: \"sequential_49\"\n",
            "_________________________________________________________________\n",
            "Layer (type)                 Output Shape              Param #   \n",
            "=================================================================\n",
            "dense_147 (Dense)            (None, 64)                50240     \n",
            "_________________________________________________________________\n",
            "dense_148 (Dense)            (None, 64)                4160      \n",
            "_________________________________________________________________\n",
            "dense_149 (Dense)            (None, 10)                650       \n",
            "=================================================================\n",
            "Total params: 55,050\n",
            "Trainable params: 55,050\n",
            "Non-trainable params: 0\n",
            "_________________________________________________________________\n",
            "Epoch 1/10\n",
            "469/469 [==============================] - 3s 5ms/step - loss: 0.6214 - accuracy: 0.8305 - val_loss: 0.1918 - val_accuracy: 0.9415\n",
            "Epoch 2/10\n",
            "469/469 [==============================] - 2s 3ms/step - loss: 0.1738 - accuracy: 0.9479 - val_loss: 0.1383 - val_accuracy: 0.9593\n",
            "Epoch 3/10\n",
            "469/469 [==============================] - 2s 3ms/step - loss: 0.1252 - accuracy: 0.9623 - val_loss: 0.1163 - val_accuracy: 0.9652\n",
            "Epoch 4/10\n",
            "469/469 [==============================] - 2s 3ms/step - loss: 0.0961 - accuracy: 0.9711 - val_loss: 0.1034 - val_accuracy: 0.9684\n",
            "Epoch 5/10\n",
            "469/469 [==============================] - 2s 3ms/step - loss: 0.0804 - accuracy: 0.9759 - val_loss: 0.0888 - val_accuracy: 0.9726\n",
            "Epoch 6/10\n",
            "469/469 [==============================] - 2s 3ms/step - loss: 0.0690 - accuracy: 0.9789 - val_loss: 0.0919 - val_accuracy: 0.9721\n",
            "Epoch 7/10\n",
            "469/469 [==============================] - 1s 3ms/step - loss: 0.0607 - accuracy: 0.9817 - val_loss: 0.0786 - val_accuracy: 0.9768\n",
            "Epoch 8/10\n",
            "469/469 [==============================] - 2s 3ms/step - loss: 0.0515 - accuracy: 0.9836 - val_loss: 0.0825 - val_accuracy: 0.9745\n",
            "Epoch 9/10\n",
            "469/469 [==============================] - 2s 3ms/step - loss: 0.0458 - accuracy: 0.9854 - val_loss: 0.0968 - val_accuracy: 0.9712\n",
            "Epoch 10/10\n",
            "469/469 [==============================] - 2s 3ms/step - loss: 0.0394 - accuracy: 0.9886 - val_loss: 0.0780 - val_accuracy: 0.9781\n",
            "Test loss: 0.07804460823535919\n",
            "Test accuracy: 0.9781000018119812\n",
            "CPU times: user 21.1 s, sys: 1.32 s, total: 22.5 s\n",
            "Wall time: 16.8 s\n"
          ],
          "name": "stdout"
        }
      ]
    },
    {
      "cell_type": "markdown",
      "metadata": {
        "id": "jdUVNDFFWiEk"
      },
      "source": [
        "### Early Stopping\r\n"
      ]
    },
    {
      "cell_type": "code",
      "metadata": {
        "id": "LU6-BqsJWxPx"
      },
      "source": [
        "from keras.callbacks import Callback\r\n",
        "\r\n",
        "class TerminateOnBaseline(Callback):\r\n",
        "\r\n",
        "    def __init__(self, monitor='accuracy', baseline=0.9):\r\n",
        "        super(TerminateOnBaseline, self).__init__()\r\n",
        "        self.monitor = monitor\r\n",
        "        self.baseline = baseline\r\n",
        "\r\n",
        "    def on_epoch_end(self, epoch, logs=None):\r\n",
        "        logs = logs or {}\r\n",
        "        acc = logs.get(self.monitor)\r\n",
        "        if acc is not None:\r\n",
        "            if acc >= self.baseline:\r\n",
        "                print('Epoch %d: Reached baseline, terminating training' % (epoch))\r\n",
        "                self.model.stop_training = True\r\n",
        "callbacks = TerminateOnBaseline(monitor='val_accuracy', baseline= score[1])"
      ],
      "execution_count": 77,
      "outputs": []
    },
    {
      "cell_type": "markdown",
      "metadata": {
        "id": "GgzqbxsxmSM_"
      },
      "source": [
        "### Relu Activation Function with Early Stopping"
      ]
    },
    {
      "cell_type": "code",
      "metadata": {
        "id": "jUmk4D1386LQ",
        "colab": {
          "base_uri": "https://localhost:8080/"
        },
        "outputId": "6e042b70-66dc-467d-857f-03fb90d331ed"
      },
      "source": [
        "# Write your code here \r\n",
        "%%time\r\n",
        "model = Sequential()\r\n",
        "model.add(Dense(64, activation='relu', input_shape=(784,)))\r\n",
        "model.add(Dense(64, activation='relu'))\r\n",
        "model.add(Dense(num_classes, activation='softmax'))\r\n",
        "\r\n",
        "model.summary()\r\n",
        "model.compile(loss='categorical_crossentropy',\r\n",
        "              optimizer=RMSprop(),\r\n",
        "              metrics=['accuracy'])\r\n",
        "\r\n",
        "history = model.fit(x_train, y_train,\r\n",
        "                    batch_size=batch_size,\r\n",
        "                    epochs=10,\r\n",
        "                    verbose=1,\r\n",
        "                    validation_data=(x_test, y_test), callbacks=[callbacks])\r\n",
        "score = model.evaluate(x_test, y_test, verbose=0)\r\n",
        "print('Test loss:', score[0])\r\n",
        "print('Test accuracy:', score[1])\r\n"
      ],
      "execution_count": 78,
      "outputs": [
        {
          "output_type": "stream",
          "text": [
            "Model: \"sequential_50\"\n",
            "_________________________________________________________________\n",
            "Layer (type)                 Output Shape              Param #   \n",
            "=================================================================\n",
            "dense_150 (Dense)            (None, 64)                50240     \n",
            "_________________________________________________________________\n",
            "dense_151 (Dense)            (None, 64)                4160      \n",
            "_________________________________________________________________\n",
            "dense_152 (Dense)            (None, 10)                650       \n",
            "=================================================================\n",
            "Total params: 55,050\n",
            "Trainable params: 55,050\n",
            "Non-trainable params: 0\n",
            "_________________________________________________________________\n",
            "Epoch 1/10\n",
            "469/469 [==============================] - 2s 4ms/step - loss: 0.6010 - accuracy: 0.8367 - val_loss: 0.1974 - val_accuracy: 0.9407\n",
            "Epoch 2/10\n",
            "469/469 [==============================] - 1s 3ms/step - loss: 0.1850 - accuracy: 0.9451 - val_loss: 0.1324 - val_accuracy: 0.9597\n",
            "Epoch 3/10\n",
            "469/469 [==============================] - 2s 3ms/step - loss: 0.1262 - accuracy: 0.9637 - val_loss: 0.1270 - val_accuracy: 0.9609\n",
            "Epoch 4/10\n",
            "469/469 [==============================] - 2s 3ms/step - loss: 0.0995 - accuracy: 0.9695 - val_loss: 0.1034 - val_accuracy: 0.9670\n",
            "Epoch 5/10\n",
            "469/469 [==============================] - 2s 3ms/step - loss: 0.0833 - accuracy: 0.9742 - val_loss: 0.0976 - val_accuracy: 0.9688\n",
            "Epoch 6/10\n",
            "469/469 [==============================] - 2s 3ms/step - loss: 0.0699 - accuracy: 0.9785 - val_loss: 0.0908 - val_accuracy: 0.9721\n",
            "Epoch 7/10\n",
            "469/469 [==============================] - 2s 3ms/step - loss: 0.0582 - accuracy: 0.9824 - val_loss: 0.0915 - val_accuracy: 0.9717\n",
            "Epoch 8/10\n",
            "469/469 [==============================] - 2s 3ms/step - loss: 0.0506 - accuracy: 0.9843 - val_loss: 0.0864 - val_accuracy: 0.9740\n",
            "Epoch 9/10\n",
            "469/469 [==============================] - 1s 3ms/step - loss: 0.0424 - accuracy: 0.9878 - val_loss: 0.0942 - val_accuracy: 0.9712\n",
            "Epoch 10/10\n",
            "469/469 [==============================] - 1s 3ms/step - loss: 0.0398 - accuracy: 0.9884 - val_loss: 0.0822 - val_accuracy: 0.9753\n",
            "Test loss: 0.08220748603343964\n",
            "Test accuracy: 0.9753000140190125\n",
            "CPU times: user 20.8 s, sys: 1.33 s, total: 22.2 s\n",
            "Wall time: 16.3 s\n"
          ],
          "name": "stdout"
        }
      ]
    },
    {
      "cell_type": "markdown",
      "metadata": {
        "id": "kAFwGJ6qmSNI"
      },
      "source": [
        "### Write your findings about activations here?\r\n",
        "\r\n",
        "####Time Comparison\r\n",
        "*   **Sigmoid:** CPU times: user 21.4 s, sys: 1.31 s, total: 22.7 s\r\n",
        "      Wall time: 16.8 s\r\n",
        "*   **Relu:** CPU times: user 22.1 s, sys: 1.45 s, total: 23.6 s\r\n",
        "      Wall time: 17.5 s\r\n",
        "*   **Relu with early stopping**: CPU times: user 11.3 s, sys: 745 ms, total: 12 s\r\n",
        "Wall time: 8.92 s\r\n",
        "\r\n",
        "\r\n",
        "####Loss and Accuracy Comparison\r\n",
        "*   **Sigmoid:** Test loss: 0.10726623237133026\r\n",
        "   <br> Test accuracy: 0.9672999978065491\r\n",
        "*   **Relu:** Test loss: 0.08689840137958527\r\n",
        "  <br> Test accuracy: 0.9742000102996826\r\n",
        " \r\n",
        "1.  In order to make a time comparison, we must define a threshold value that both of them must exceed. Since we know the accuracy result without early stopping and the accuracy of the model which uses relu is higher we can assume that the threshold is equal to final accuracy result of the model which uses sigmoid. \r\n",
        "\r\n",
        "*   When we apply early stopping to relu we can make the conclusion that model using relu achieves the same accuracy in less time. One of the reason behind  is that the Relu's derivative is faster to compute.\r\n",
        "\r\n",
        "2.   When we run the model without early stopping, we can see that the final accuracy of the relu model that already starts with higher accuracy than sigmoid is also higher. One of the reasons behind this is the non-saturation of Relu's gradient."
      ]
    },
    {
      "cell_type": "markdown",
      "metadata": {
        "id": "92WOKBj7mSNO"
      },
      "source": [
        "# Part 2: Design Choices: Nodes\r\n",
        "#### Analyze the parameter size, accuracy and training time"
      ]
    },
    {
      "cell_type": "markdown",
      "metadata": {
        "id": "iWMaAtL1_P8s"
      },
      "source": [
        "### Design a model with small Number of Nodes. For Example 8"
      ]
    },
    {
      "cell_type": "code",
      "metadata": {
        "trusted": true,
        "id": "4wsQdORcmSNP",
        "colab": {
          "base_uri": "https://localhost:8080/"
        },
        "outputId": "38b96b86-d8d2-436a-ac18-b6af07f9c44c"
      },
      "source": [
        "%%time\n",
        "first_layer_size = 8\n",
        "\n",
        "model = Sequential()\n",
        "model.add(Dense(first_layer_size, activation='sigmoid', input_shape=(784,)))\n",
        "model.add(Dense(32, activation='sigmoid'))\n",
        "model.add(Dense(num_classes, activation='softmax'))\n",
        "\n",
        "model.summary()\n",
        "model.compile(loss='categorical_crossentropy',\n",
        "              optimizer=RMSprop(),\n",
        "              metrics=['accuracy'])\n",
        "\n",
        "history = model.fit(x_train, y_train,\n",
        "                    batch_size=batch_size,\n",
        "                    epochs=epochs,\n",
        "                    verbose=1,\n",
        "                    validation_data=(x_test, y_test))\n",
        "score = model.evaluate(x_test, y_test, verbose=0)\n",
        "print('Test loss:', score[0])\n",
        "print('Test accuracy:', score[1])"
      ],
      "execution_count": 79,
      "outputs": [
        {
          "output_type": "stream",
          "text": [
            "Model: \"sequential_51\"\n",
            "_________________________________________________________________\n",
            "Layer (type)                 Output Shape              Param #   \n",
            "=================================================================\n",
            "dense_153 (Dense)            (None, 8)                 6280      \n",
            "_________________________________________________________________\n",
            "dense_154 (Dense)            (None, 32)                288       \n",
            "_________________________________________________________________\n",
            "dense_155 (Dense)            (None, 10)                330       \n",
            "=================================================================\n",
            "Total params: 6,898\n",
            "Trainable params: 6,898\n",
            "Non-trainable params: 0\n",
            "_________________________________________________________________\n",
            "Epoch 1/2\n",
            "469/469 [==============================] - 2s 2ms/step - loss: 2.0464 - accuracy: 0.3532 - val_loss: 1.3340 - val_accuracy: 0.5527\n",
            "Epoch 2/2\n",
            "469/469 [==============================] - 1s 2ms/step - loss: 1.1887 - accuracy: 0.6251 - val_loss: 0.8858 - val_accuracy: 0.7209\n",
            "Test loss: 0.8858238458633423\n",
            "Test accuracy: 0.7208999991416931\n",
            "CPU times: user 3.57 s, sys: 266 ms, total: 3.84 s\n",
            "Wall time: 3.05 s\n"
          ],
          "name": "stdout"
        }
      ]
    },
    {
      "cell_type": "code",
      "metadata": {
        "colab": {
          "base_uri": "https://localhost:8080/",
          "height": 179
        },
        "id": "7aOypkm9nZpO",
        "outputId": "7ea2a797-c050-4e75-9b30-a63b75660511"
      },
      "source": [
        "w = []\r\n",
        "for layer in model.layers:\r\n",
        "    weights = layer.get_weights()\r\n",
        "    w.append(weights)\r\n",
        "\r\n",
        "layer1 = np.array(w[0][0])\r\n",
        "print(\"Shape of First Layer\", layer1.shape)\r\n",
        "print(\"Visualization of First Layer\")\r\n",
        "\r\n",
        "import matplotlib.pyplot as plt\r\n",
        "fig=plt.figure(figsize=(16, 16))\r\n",
        "columns = 8\r\n",
        "rows = int(first_layer_size/8)\r\n",
        "for i in range(1, columns*rows +1):\r\n",
        "    fig.add_subplot(rows, columns, i)\r\n",
        "    plt.imshow(layer1[:,i-1].reshape(28,28),cmap='gray')\r\n",
        "plt.show()"
      ],
      "execution_count": 80,
      "outputs": [
        {
          "output_type": "stream",
          "text": [
            "Shape of First Layer (784, 8)\n",
            "Visualization of First Layer\n"
          ],
          "name": "stdout"
        },
        {
          "output_type": "display_data",
          "data": {
            "image/png": "[encoded data removed]",
            "text/plain": [
              "<Figure size 1152x1152 with 8 Axes>"
            ]
          },
          "metadata": {
            "tags": [],
            "needs_background": "light"
          }
        }
      ]
    },
    {
      "cell_type": "markdown",
      "metadata": {
        "id": "r-BedYkunC0U"
      },
      "source": [
        "### Design a model with large Number of Nodes. For example 32"
      ]
    },
    {
      "cell_type": "code",
      "metadata": {
        "colab": {
          "base_uri": "https://localhost:8080/"
        },
        "id": "-CaIm5P-nAEt",
        "outputId": "8e02ee52-f34b-4fc0-b89c-8e0d2696815e"
      },
      "source": [
        "%%time\r\n",
        "first_layer_size = 32\r\n",
        "\r\n",
        "model = Sequential()\r\n",
        "model.add(Dense(first_layer_size, activation='sigmoid', input_shape=(784,)))\r\n",
        "model.add(Dense(32, activation='sigmoid'))\r\n",
        "model.add(Dense(num_classes, activation='softmax'))\r\n",
        "\r\n",
        "model.summary()\r\n",
        "model.compile(loss='categorical_crossentropy',\r\n",
        "              optimizer=RMSprop(),\r\n",
        "              metrics=['accuracy'])\r\n",
        "\r\n",
        "history = model.fit(x_train, y_train,\r\n",
        "                    batch_size=batch_size,\r\n",
        "                    epochs=epochs,\r\n",
        "                    verbose=1,\r\n",
        "                    validation_data=(x_test, y_test))\r\n",
        "score = model.evaluate(x_test, y_test, verbose=0)\r\n",
        "print('Test loss:', score[0])\r\n",
        "print('Test accuracy:', score[1])\r\n",
        "\r\n",
        "w = []\r\n",
        "for layer in model.layers:\r\n",
        "    weights = layer.get_weights()\r\n",
        "    w.append(weights)"
      ],
      "execution_count": 81,
      "outputs": [
        {
          "output_type": "stream",
          "text": [
            "Model: \"sequential_52\"\n",
            "_________________________________________________________________\n",
            "Layer (type)                 Output Shape              Param #   \n",
            "=================================================================\n",
            "dense_156 (Dense)            (None, 32)                25120     \n",
            "_________________________________________________________________\n",
            "dense_157 (Dense)            (None, 32)                1056      \n",
            "_________________________________________________________________\n",
            "dense_158 (Dense)            (None, 10)                330       \n",
            "=================================================================\n",
            "Total params: 26,506\n",
            "Trainable params: 26,506\n",
            "Non-trainable params: 0\n",
            "_________________________________________________________________\n",
            "Epoch 1/2\n",
            "469/469 [==============================] - 2s 3ms/step - loss: 1.7711 - accuracy: 0.5127 - val_loss: 0.6864 - val_accuracy: 0.8392\n",
            "Epoch 2/2\n",
            "469/469 [==============================] - 1s 3ms/step - loss: 0.5769 - accuracy: 0.8565 - val_loss: 0.3582 - val_accuracy: 0.9028\n",
            "Test loss: 0.35817909240722656\n",
            "Test accuracy: 0.9028000235557556\n",
            "CPU times: user 4.2 s, sys: 281 ms, total: 4.48 s\n",
            "Wall time: 3.53 s\n"
          ],
          "name": "stdout"
        }
      ]
    },
    {
      "cell_type": "code",
      "metadata": {
        "trusted": true,
        "id": "apTlIl_lmSNX",
        "colab": {
          "base_uri": "https://localhost:8080/"
        },
        "outputId": "08d374a6-0537-4a27-8886-cba91fa92b25"
      },
      "source": [
        "%%time\n",
        "first_layer_size = 128\n",
        "\n",
        "model = Sequential()\n",
        "model.add(Dense(first_layer_size, activation='sigmoid', input_shape=(784,)))\n",
        "model.add(Dense(32, activation='sigmoid'))\n",
        "model.add(Dense(num_classes, activation='softmax'))\n",
        "\n",
        "model.summary()\n",
        "model.compile(loss='categorical_crossentropy',\n",
        "              optimizer=RMSprop(),\n",
        "              metrics=['accuracy'])\n",
        "\n",
        "history = model.fit(x_train, y_train,\n",
        "                    batch_size=batch_size,\n",
        "                    epochs=epochs,\n",
        "                    verbose=1,\n",
        "                    validation_data=(x_test, y_test))\n",
        "score = model.evaluate(x_test, y_test, verbose=0)\n",
        "print('Test loss:', score[0])\n",
        "print('Test accuracy:', score[1])\n",
        "\n",
        "w = []\n",
        "for layer in model.layers:\n",
        "    weights = layer.get_weights()\n",
        "    w.append(weights)"
      ],
      "execution_count": 82,
      "outputs": [
        {
          "output_type": "stream",
          "text": [
            "Model: \"sequential_53\"\n",
            "_________________________________________________________________\n",
            "Layer (type)                 Output Shape              Param #   \n",
            "=================================================================\n",
            "dense_159 (Dense)            (None, 128)               100480    \n",
            "_________________________________________________________________\n",
            "dense_160 (Dense)            (None, 32)                4128      \n",
            "_________________________________________________________________\n",
            "dense_161 (Dense)            (None, 10)                330       \n",
            "=================================================================\n",
            "Total params: 104,938\n",
            "Trainable params: 104,938\n",
            "Non-trainable params: 0\n",
            "_________________________________________________________________\n",
            "Epoch 1/2\n",
            "469/469 [==============================] - 3s 5ms/step - loss: 1.4411 - accuracy: 0.6097 - val_loss: 0.3671 - val_accuracy: 0.9085\n",
            "Epoch 2/2\n",
            "469/469 [==============================] - 2s 4ms/step - loss: 0.3311 - accuracy: 0.9136 - val_loss: 0.2378 - val_accuracy: 0.9320\n",
            "Test loss: 0.2377506047487259\n",
            "Test accuracy: 0.9319999814033508\n",
            "CPU times: user 6.78 s, sys: 457 ms, total: 7.24 s\n",
            "Wall time: 5.24 s\n"
          ],
          "name": "stdout"
        }
      ]
    },
    {
      "cell_type": "markdown",
      "metadata": {
        "id": "xkCLEeEs-BKy"
      },
      "source": [
        "### Write your findings about influence of nodes here?\r\n",
        "\r\n",
        "1.   As the number of nodes increases, the model becomes more complex (having more parameters to calculate) and the  number of mathematical operations also increases. As a result, the working time increases. \r\n",
        "2.   As the number of nodes increases accuracy also increases. Perhaps the model is starting to see features that it could not detect before.\r\n",
        "\r\n",
        "\r\n"
      ]
    },
    {
      "cell_type": "markdown",
      "metadata": {
        "id": "N4YS7NGQmSNf"
      },
      "source": [
        "# Part 3: Design Choices: Layers\r\n",
        "#### Analyze the parameter size, accuracy and training time"
      ]
    },
    {
      "cell_type": "markdown",
      "metadata": {
        "id": "dcBsESX-_bnL"
      },
      "source": [
        "### Design a model with small number of layers. For example 1 hidden layer"
      ]
    },
    {
      "cell_type": "code",
      "metadata": {
        "trusted": true,
        "id": "Bj0JrdLNmSNh",
        "colab": {
          "base_uri": "https://localhost:8080/"
        },
        "outputId": "c570738b-256e-41f5-b0d0-6025cb152717"
      },
      "source": [
        "%%time\n",
        "model = Sequential()\n",
        "model.add(Dense(32, activation='relu', input_shape=(784,)))\n",
        "model.add(Dense(num_classes, activation='softmax'))\n",
        "\n",
        "model.summary()\n",
        "model.compile(loss='categorical_crossentropy',\n",
        "              optimizer=RMSprop(),\n",
        "              metrics=['accuracy'])\n",
        "\n",
        "history = model.fit(x_train, y_train,\n",
        "                    batch_size=batch_size,\n",
        "                    epochs=10,\n",
        "                    verbose=1,\n",
        "                    validation_data=(x_test, y_test))\n",
        "score = model.evaluate(x_test, y_test, verbose=0)\n",
        "print('Test loss:', score[0])\n",
        "print('Test accuracy:', score[1])"
      ],
      "execution_count": 83,
      "outputs": [
        {
          "output_type": "stream",
          "text": [
            "Model: \"sequential_54\"\n",
            "_________________________________________________________________\n",
            "Layer (type)                 Output Shape              Param #   \n",
            "=================================================================\n",
            "dense_162 (Dense)            (None, 32)                25120     \n",
            "_________________________________________________________________\n",
            "dense_163 (Dense)            (None, 10)                330       \n",
            "=================================================================\n",
            "Total params: 25,450\n",
            "Trainable params: 25,450\n",
            "Non-trainable params: 0\n",
            "_________________________________________________________________\n",
            "Epoch 1/10\n",
            "469/469 [==============================] - 2s 3ms/step - loss: 0.7613 - accuracy: 0.7982 - val_loss: 0.2587 - val_accuracy: 0.9243\n",
            "Epoch 2/10\n",
            "469/469 [==============================] - 1s 3ms/step - loss: 0.2493 - accuracy: 0.9312 - val_loss: 0.2033 - val_accuracy: 0.9414\n",
            "Epoch 3/10\n",
            "469/469 [==============================] - 1s 3ms/step - loss: 0.1996 - accuracy: 0.9437 - val_loss: 0.1764 - val_accuracy: 0.9489\n",
            "Epoch 4/10\n",
            "469/469 [==============================] - 1s 2ms/step - loss: 0.1760 - accuracy: 0.9492 - val_loss: 0.1607 - val_accuracy: 0.9532\n",
            "Epoch 5/10\n",
            "469/469 [==============================] - 1s 3ms/step - loss: 0.1535 - accuracy: 0.9563 - val_loss: 0.1480 - val_accuracy: 0.9575\n",
            "Epoch 6/10\n",
            "469/469 [==============================] - 1s 2ms/step - loss: 0.1387 - accuracy: 0.9597 - val_loss: 0.1394 - val_accuracy: 0.9600\n",
            "Epoch 7/10\n",
            "469/469 [==============================] - 1s 3ms/step - loss: 0.1258 - accuracy: 0.9643 - val_loss: 0.1341 - val_accuracy: 0.9607\n",
            "Epoch 8/10\n",
            "469/469 [==============================] - 1s 3ms/step - loss: 0.1192 - accuracy: 0.9657 - val_loss: 0.1314 - val_accuracy: 0.9615\n",
            "Epoch 9/10\n",
            "469/469 [==============================] - 1s 3ms/step - loss: 0.1106 - accuracy: 0.9685 - val_loss: 0.1229 - val_accuracy: 0.9650\n",
            "Epoch 10/10\n",
            "469/469 [==============================] - 1s 3ms/step - loss: 0.1031 - accuracy: 0.9693 - val_loss: 0.1227 - val_accuracy: 0.9651\n",
            "Test loss: 0.1226552352309227\n",
            "Test accuracy: 0.9650999903678894\n",
            "CPU times: user 15.8 s, sys: 1.03 s, total: 16.9 s\n",
            "Wall time: 12.8 s\n"
          ],
          "name": "stdout"
        }
      ]
    },
    {
      "cell_type": "markdown",
      "metadata": {
        "id": "6or7gQTXmSNv"
      },
      "source": [
        "### Increase number of Layers. For example 4 hidden layers"
      ]
    },
    {
      "cell_type": "code",
      "metadata": {
        "trusted": true,
        "id": "PkJLwCMumSNx",
        "colab": {
          "base_uri": "https://localhost:8080/"
        },
        "outputId": "791ed76c-23a0-4daa-9fdc-0977754533ce"
      },
      "source": [
        "%%time\n",
        "model = Sequential()\n",
        "model.add(Dense(32, activation='relu', input_shape=(784,)))\n",
        "model.add(Dense(32, activation='relu', input_shape=(784,)))\n",
        "model.add(Dense(32, activation='relu', input_shape=(784,)))\n",
        "model.add(Dense(32, activation='relu', input_shape=(784,)))\n",
        "model.add(Dense(num_classes, activation='softmax'))\n",
        "\n",
        "model.summary()\n",
        "model.compile(loss='categorical_crossentropy',\n",
        "              optimizer=RMSprop(),\n",
        "              metrics=['accuracy'])\n",
        "\n",
        "history = model.fit(x_train, y_train,\n",
        "                    batch_size=batch_size,\n",
        "                    epochs=10,\n",
        "                    verbose=1,\n",
        "                    validation_data=(x_test, y_test))\n",
        "score = model.evaluate(x_test, y_test, verbose=0)\n",
        "print('Test loss:', score[0])\n",
        "print('Test accuracy:', score[1])"
      ],
      "execution_count": 84,
      "outputs": [
        {
          "output_type": "stream",
          "text": [
            "Model: \"sequential_55\"\n",
            "_________________________________________________________________\n",
            "Layer (type)                 Output Shape              Param #   \n",
            "=================================================================\n",
            "dense_164 (Dense)            (None, 32)                25120     \n",
            "_________________________________________________________________\n",
            "dense_165 (Dense)            (None, 32)                1056      \n",
            "_________________________________________________________________\n",
            "dense_166 (Dense)            (None, 32)                1056      \n",
            "_________________________________________________________________\n",
            "dense_167 (Dense)            (None, 32)                1056      \n",
            "_________________________________________________________________\n",
            "dense_168 (Dense)            (None, 10)                330       \n",
            "=================================================================\n",
            "Total params: 28,618\n",
            "Trainable params: 28,618\n",
            "Non-trainable params: 0\n",
            "_________________________________________________________________\n",
            "Epoch 1/10\n",
            "469/469 [==============================] - 2s 3ms/step - loss: 0.8340 - accuracy: 0.7512 - val_loss: 0.2312 - val_accuracy: 0.9322\n",
            "Epoch 2/10\n",
            "469/469 [==============================] - 1s 3ms/step - loss: 0.2330 - accuracy: 0.9328 - val_loss: 0.1961 - val_accuracy: 0.9427\n",
            "Epoch 3/10\n",
            "469/469 [==============================] - 1s 3ms/step - loss: 0.1759 - accuracy: 0.9472 - val_loss: 0.1740 - val_accuracy: 0.9462\n",
            "Epoch 4/10\n",
            "469/469 [==============================] - 1s 3ms/step - loss: 0.1503 - accuracy: 0.9539 - val_loss: 0.1450 - val_accuracy: 0.9568\n",
            "Epoch 5/10\n",
            "469/469 [==============================] - 1s 3ms/step - loss: 0.1311 - accuracy: 0.9603 - val_loss: 0.1377 - val_accuracy: 0.9595\n",
            "Epoch 6/10\n",
            "469/469 [==============================] - 1s 3ms/step - loss: 0.1173 - accuracy: 0.9631 - val_loss: 0.1512 - val_accuracy: 0.9567\n",
            "Epoch 7/10\n",
            "469/469 [==============================] - 1s 3ms/step - loss: 0.1056 - accuracy: 0.9675 - val_loss: 0.1352 - val_accuracy: 0.9607\n",
            "Epoch 8/10\n",
            "469/469 [==============================] - 1s 3ms/step - loss: 0.0993 - accuracy: 0.9695 - val_loss: 0.1410 - val_accuracy: 0.9599\n",
            "Epoch 9/10\n",
            "469/469 [==============================] - 1s 3ms/step - loss: 0.0936 - accuracy: 0.9710 - val_loss: 0.1353 - val_accuracy: 0.9629\n",
            "Epoch 10/10\n",
            "469/469 [==============================] - 1s 3ms/step - loss: 0.0856 - accuracy: 0.9739 - val_loss: 0.1269 - val_accuracy: 0.9651\n",
            "Test loss: 0.12688270211219788\n",
            "Test accuracy: 0.9650999903678894\n",
            "CPU times: user 18.4 s, sys: 1.29 s, total: 19.7 s\n",
            "Wall time: 14.7 s\n"
          ],
          "name": "stdout"
        }
      ]
    },
    {
      "cell_type": "markdown",
      "metadata": {
        "id": "NMJYY9AHAGih"
      },
      "source": [
        "### Write your findings about influence of layers here?\r\n",
        "\r\n",
        "1.   More layers means more parameters and calculations. Beacuse of that the working time increases.\r\n",
        "2.   More layers allow us to get a more complex model. Thus, our accuracy value increases."
      ]
    }
  ]
}